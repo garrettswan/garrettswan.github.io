{
  "nbformat": 4,
  "nbformat_minor": 0,
  "metadata": {
    "colab": {
      "name": "convert_Zoomtxt_to_srt.ipynb",
      "provenance": [],
      "collapsed_sections": []
    },
    "kernelspec": {
      "name": "python3",
      "display_name": "Python 3"
    },
    "language_info": {
      "name": "python"
    }
  },
  "cells": [
    {
      "cell_type": "code",
      "metadata": {
        "id": "124tH8MK0EIT"
      },
      "source": [
        "import numpy as np\n",
        "import re\n",
        "from datetime import datetime, date\n",
        "\n",
        "with open('closed_caption.txt') as f:\n",
        "    contents = f.read()\n",
        "    #print(contents)\n",
        "\n",
        "row_idx = [m.start() for m in re.finditer('\\n', contents)]\n",
        "\n",
        "start_time = contents[0:row_idx[0]-(row_idx[0]-8)] # so, this is the first time in the file\n",
        "\n",
        "count = 0\n",
        "the_end = 0\n",
        "\n",
        "f1=open('./output.txt', 'a')\n",
        "for i in np.arange(0,len(row_idx)):\n",
        "\n",
        "  count = count + 1\n",
        "\n",
        "  next_idx = i+1\n",
        "  now_idx = i\n",
        "  prev_idx = i-1\n",
        "\n",
        "\n",
        "  if prev_idx != -1:\n",
        "    prev_row_time = contents[row_idx[prev_idx]+1:row_idx[now_idx]-(row_idx[now_idx]-row_idx[prev_idx]-9)] # this gets the time\n",
        "    prev_row_time_duration = datetime.strptime(prev_row_time,'%H:%M:%S')-datetime.strptime(start_time,'%H:%M:%S') # this subtracts the time\n",
        "  else:\n",
        "    prev_row_time_duration = datetime.strptime(start_time,'%H:%M:%S')-datetime.strptime(start_time,'%H:%M:%S')\n",
        "\n",
        "\n",
        "  if next_idx <len(row_idx):\n",
        "    row_time = contents[row_idx[now_idx]+1:row_idx[next_idx]-(row_idx[next_idx]-row_idx[now_idx]-9)] # this gets the time\n",
        "    row_time_duration = datetime.strptime(row_time,'%H:%M:%S')-datetime.strptime(start_time,'%H:%M:%S') # this subtracts the time\n",
        "  else:\n",
        "    the_end = 1\n",
        "\n",
        "\n",
        "  if the_end==0:\n",
        "    second_time = str((prev_row_time_duration-row_time_duration))\n",
        "\n",
        "    f1.write(str(count) + \"\\r\\n\")\n",
        "    f1.write('0'+str(prev_row_time_duration)+',000 --> 0'+str(row_time_duration)+',000' + \"\\r\\n\")\n",
        "    f1.write(contents[row_idx[now_idx]+10:row_idx[next_idx]] + \"\\r\\n\")\n",
        "    f1.write(\"\\r\\n\")\n",
        "    f1.write(\"\\r\\n\")\n",
        "\n",
        "    #print(count)\n",
        "    #print('0'+str(prev_row_time_duration)+',000 --> 0'+str(row_time_duration)+',000')\n",
        "    #print(contents[row_idx[now_idx]+10:row_idx[next_idx]])\n",
        "    #print('\\n')"
      ],
      "execution_count": 13,
      "outputs": []
    }
  ]
}